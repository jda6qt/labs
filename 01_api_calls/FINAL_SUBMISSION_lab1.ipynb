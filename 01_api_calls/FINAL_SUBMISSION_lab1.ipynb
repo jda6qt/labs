{
 "cells": [
  {
   "cell_type": "markdown",
   "id": "63015a20",
   "metadata": {},
   "source": [
    "## Lab 1: Getting data from API's\n",
    "\n",
    "Hanna Svenson\n"
   ]
  },
  {
   "cell_type": "markdown",
   "id": "c353426c",
   "metadata": {},
   "source": [
    "**1. Practice writing queries using the saferproducts.gov API and your web browser.**\n",
    "\n",
    "Some sample queries used:\n",
    "\n",
    "    https://www.saferproducts.gov/RestWebServices/Recall?format=json&ProductType=Food\n",
    "    https://www.saferproducts.gov/RestWebServices/Recall?format=json&ProductType=Bicycle&injury=concussion\n",
    "    https://www.saferproducts.gov/RestWebServices/Recall?format=json&Manufacturer=bosch"
   ]
  },
  {
   "cell_type": "markdown",
   "id": "0437ff66",
   "metadata": {},
   "source": [
    "**2. Practice with the saferproducts.gov API and the above code in a notebook to see how API's work, in general.**"
   ]
  },
  {
   "cell_type": "code",
   "execution_count": 1,
   "id": "f99c48db",
   "metadata": {},
   "outputs": [],
   "source": [
    "import pandas as pd\n",
    "import urllib.request\n",
    "import json\n",
    "url = 'https://www.saferproducts.gov/RestWebServices/' # Location of the API\n",
    "query = 'Recall?format=json&ProductType=Shoe' # The query\n",
    "response = urllib.request.urlopen(url+query)\n",
    "response_bytes = response.read()\n",
    "data = json.loads(response_bytes) # Convert response to json\n",
    "response.close()"
   ]
  },
  {
   "cell_type": "code",
   "execution_count": 2,
   "id": "1d5855a6",
   "metadata": {},
   "outputs": [
    {
     "data": {
      "text/html": [
       "<div>\n",
       "<style scoped>\n",
       "    .dataframe tbody tr th:only-of-type {\n",
       "        vertical-align: middle;\n",
       "    }\n",
       "\n",
       "    .dataframe tbody tr th {\n",
       "        vertical-align: top;\n",
       "    }\n",
       "\n",
       "    .dataframe thead th {\n",
       "        text-align: right;\n",
       "    }\n",
       "</style>\n",
       "<table border=\"1\" class=\"dataframe\">\n",
       "  <thead>\n",
       "    <tr style=\"text-align: right;\">\n",
       "      <th></th>\n",
       "      <th>RecallID</th>\n",
       "      <th>RecallNumber</th>\n",
       "      <th>RecallDate</th>\n",
       "      <th>Description</th>\n",
       "      <th>URL</th>\n",
       "      <th>Title</th>\n",
       "      <th>ConsumerContact</th>\n",
       "      <th>LastPublishDate</th>\n",
       "      <th>Products</th>\n",
       "      <th>Inconjunctions</th>\n",
       "      <th>...</th>\n",
       "      <th>Manufacturers</th>\n",
       "      <th>Retailers</th>\n",
       "      <th>Importers</th>\n",
       "      <th>Distributors</th>\n",
       "      <th>SoldAtLabel</th>\n",
       "      <th>ManufacturerCountries</th>\n",
       "      <th>ProductUPCs</th>\n",
       "      <th>Hazards</th>\n",
       "      <th>Remedies</th>\n",
       "      <th>RemedyOptions</th>\n",
       "    </tr>\n",
       "  </thead>\n",
       "  <tbody>\n",
       "    <tr>\n",
       "      <th>0</th>\n",
       "      <td>6651</td>\n",
       "      <td>16097</td>\n",
       "      <td>2016-02-09T00:00:00</td>\n",
       "      <td>This recall involves Classic Characters' infan...</td>\n",
       "      <td>https://www.cpsc.gov/Recalls/2016/Classic-Char...</td>\n",
       "      <td>Classic Characters Recalls Infant Booties Due ...</td>\n",
       "      <td>Classic Characters, Inc. toll-free at 866-274-...</td>\n",
       "      <td>2016-02-09T00:00:00</td>\n",
       "      <td>[{'Name': 'Infant Elf Booties', 'Description':...</td>\n",
       "      <td>[]</td>\n",
       "      <td>...</td>\n",
       "      <td>[]</td>\n",
       "      <td>[{'Name': 'Cracker Barrel Old Country Store na...</td>\n",
       "      <td>[{'Name': 'Classic Characters Inc., of Quebec,...</td>\n",
       "      <td>[]</td>\n",
       "      <td>None</td>\n",
       "      <td>[{'Country': 'China'}]</td>\n",
       "      <td>[]</td>\n",
       "      <td>[{'Name': 'The pompoms at the tip of the toe c...</td>\n",
       "      <td>[{'Name': 'Consumers should immediately stop u...</td>\n",
       "      <td>[{'Option': 'Refund'}]</td>\n",
       "    </tr>\n",
       "    <tr>\n",
       "      <th>1</th>\n",
       "      <td>1773</td>\n",
       "      <td>14284</td>\n",
       "      <td>2014-09-30T00:00:00</td>\n",
       "      <td>The recall involves First Impressions high-top...</td>\n",
       "      <td>https://www.cpsc.gov/Recalls/2014/Trimfoot-Rec...</td>\n",
       "      <td>Trimfoot Recalls Children's Soft-Soled Sneaker...</td>\n",
       "      <td>Trimfoot at (800) 325-6116 from 8 a.m. to 4:30...</td>\n",
       "      <td>2015-01-09T00:00:00</td>\n",
       "      <td>[{'Name': 'Children's soft-soled shoes', 'Desc...</td>\n",
       "      <td>[]</td>\n",
       "      <td>...</td>\n",
       "      <td>[]</td>\n",
       "      <td>[{'Name': 'Macy's stores nationwide from Febru...</td>\n",
       "      <td>[{'Name': 'Trimfoot Co. LLC., of Farmington, M...</td>\n",
       "      <td>[]</td>\n",
       "      <td>None</td>\n",
       "      <td>[{'Country': 'China'}]</td>\n",
       "      <td>[]</td>\n",
       "      <td>[{'Name': 'A small metal eyelet can detach fro...</td>\n",
       "      <td>[{'Name': 'Consumers should immediately take t...</td>\n",
       "      <td>[{'Option': 'Refund'}]</td>\n",
       "    </tr>\n",
       "    <tr>\n",
       "      <th>2</th>\n",
       "      <td>1761</td>\n",
       "      <td>14269</td>\n",
       "      <td>2014-09-04T00:00:00</td>\n",
       "      <td>The recalled Livie &amp; Luca children's shoes inc...</td>\n",
       "      <td>https://www.cpsc.gov/Recalls/2014/Livie-and-Lu...</td>\n",
       "      <td>Livie &amp; Luca Recalls Children's Shoes Due to L...</td>\n",
       "      <td>Livie &amp; Luca toll-free at (888) 548-5822 from ...</td>\n",
       "      <td>2015-07-24T00:00:00</td>\n",
       "      <td>[{'Name': 'Carta and \"Cotton\" Children's Shoes...</td>\n",
       "      <td>[]</td>\n",
       "      <td>...</td>\n",
       "      <td>[]</td>\n",
       "      <td>[{'Name': 'Children's boutiques including Read...</td>\n",
       "      <td>[{'Name': 'Livie and Luca, of Emeryville, Cali...</td>\n",
       "      <td>[]</td>\n",
       "      <td>None</td>\n",
       "      <td>[{'Country': 'Mexico'}]</td>\n",
       "      <td>[]</td>\n",
       "      <td>[{'Name': 'A metal thread inside the interior ...</td>\n",
       "      <td>[{'Name': 'Consumers should immediately take t...</td>\n",
       "      <td>[{'Option': 'Replace'}, {'Option': 'Refund'}]</td>\n",
       "    </tr>\n",
       "    <tr>\n",
       "      <th>3</th>\n",
       "      <td>1627</td>\n",
       "      <td>14111</td>\n",
       "      <td>2014-02-20T00:00:00</td>\n",
       "      <td>The Runestone children's shoes are black with ...</td>\n",
       "      <td>https://www.cpsc.gov/Recalls/2014/Eastman-Foot...</td>\n",
       "      <td>Eastman Footwear Recalls Coleman Runestone Chi...</td>\n",
       "      <td>Eastman Footwear at (800)786-0282 ext. 301 fro...</td>\n",
       "      <td>2015-07-31T00:00:00</td>\n",
       "      <td>[{'Name': 'Coleman® Runestone Style Children's...</td>\n",
       "      <td>[]</td>\n",
       "      <td>...</td>\n",
       "      <td>[]</td>\n",
       "      <td>[{'Name': 'Big 5 Sporting Goods retail stores ...</td>\n",
       "      <td>[{'Name': 'The Eastman Footwear Group Inc., of...</td>\n",
       "      <td>[]</td>\n",
       "      <td>None</td>\n",
       "      <td>[{'Country': 'China'}]</td>\n",
       "      <td>[]</td>\n",
       "      <td>[{'Name': 'The metal rivets surrounding the ho...</td>\n",
       "      <td>[{'Name': 'Consumers should immediately stop u...</td>\n",
       "      <td>[]</td>\n",
       "    </tr>\n",
       "    <tr>\n",
       "      <th>4</th>\n",
       "      <td>1555</td>\n",
       "      <td>14031</td>\n",
       "      <td>2013-11-26T00:00:00</td>\n",
       "      <td>This recall involves infant girl sandals sold ...</td>\n",
       "      <td>https://www.cpsc.gov/Recalls/2014/American-Boy...</td>\n",
       "      <td>American Boy and Girl Recalls Infant Sandals D...</td>\n",
       "      <td>American Boy and Girl at (800) 689-9237 from 9...</td>\n",
       "      <td>2015-01-07T00:00:00</td>\n",
       "      <td>[{'Name': 'Girl's \"Susan\" Sandals', 'Descripti...</td>\n",
       "      <td>[]</td>\n",
       "      <td>...</td>\n",
       "      <td>[]</td>\n",
       "      <td>[{'Name': 'Meijer Stores in Illinois, Indiana,...</td>\n",
       "      <td>[{'Name': 'American Boy and Girl (ABG), of Eli...</td>\n",
       "      <td>[]</td>\n",
       "      <td>None</td>\n",
       "      <td>[{'Country': 'China'}]</td>\n",
       "      <td>[]</td>\n",
       "      <td>[{'Name': 'The top strap can be pulled loose f...</td>\n",
       "      <td>[{'Name': 'Consumers should immediately take t...</td>\n",
       "      <td>[{'Option': 'Replace'}, {'Option': 'Refund'}]</td>\n",
       "    </tr>\n",
       "  </tbody>\n",
       "</table>\n",
       "<p>5 rows × 22 columns</p>\n",
       "</div>"
      ],
      "text/plain": [
       "   RecallID RecallNumber           RecallDate  \\\n",
       "0      6651        16097  2016-02-09T00:00:00   \n",
       "1      1773        14284  2014-09-30T00:00:00   \n",
       "2      1761        14269  2014-09-04T00:00:00   \n",
       "3      1627        14111  2014-02-20T00:00:00   \n",
       "4      1555        14031  2013-11-26T00:00:00   \n",
       "\n",
       "                                         Description  \\\n",
       "0  This recall involves Classic Characters' infan...   \n",
       "1  The recall involves First Impressions high-top...   \n",
       "2  The recalled Livie & Luca children's shoes inc...   \n",
       "3  The Runestone children's shoes are black with ...   \n",
       "4  This recall involves infant girl sandals sold ...   \n",
       "\n",
       "                                                 URL  \\\n",
       "0  https://www.cpsc.gov/Recalls/2016/Classic-Char...   \n",
       "1  https://www.cpsc.gov/Recalls/2014/Trimfoot-Rec...   \n",
       "2  https://www.cpsc.gov/Recalls/2014/Livie-and-Lu...   \n",
       "3  https://www.cpsc.gov/Recalls/2014/Eastman-Foot...   \n",
       "4  https://www.cpsc.gov/Recalls/2014/American-Boy...   \n",
       "\n",
       "                                               Title  \\\n",
       "0  Classic Characters Recalls Infant Booties Due ...   \n",
       "1  Trimfoot Recalls Children's Soft-Soled Sneaker...   \n",
       "2  Livie & Luca Recalls Children's Shoes Due to L...   \n",
       "3  Eastman Footwear Recalls Coleman Runestone Chi...   \n",
       "4  American Boy and Girl Recalls Infant Sandals D...   \n",
       "\n",
       "                                     ConsumerContact      LastPublishDate  \\\n",
       "0  Classic Characters, Inc. toll-free at 866-274-...  2016-02-09T00:00:00   \n",
       "1  Trimfoot at (800) 325-6116 from 8 a.m. to 4:30...  2015-01-09T00:00:00   \n",
       "2  Livie & Luca toll-free at (888) 548-5822 from ...  2015-07-24T00:00:00   \n",
       "3  Eastman Footwear at (800)786-0282 ext. 301 fro...  2015-07-31T00:00:00   \n",
       "4  American Boy and Girl at (800) 689-9237 from 9...  2015-01-07T00:00:00   \n",
       "\n",
       "                                            Products Inconjunctions  ...  \\\n",
       "0  [{'Name': 'Infant Elf Booties', 'Description':...             []  ...   \n",
       "1  [{'Name': 'Children's soft-soled shoes', 'Desc...             []  ...   \n",
       "2  [{'Name': 'Carta and \"Cotton\" Children's Shoes...             []  ...   \n",
       "3  [{'Name': 'Coleman® Runestone Style Children's...             []  ...   \n",
       "4  [{'Name': 'Girl's \"Susan\" Sandals', 'Descripti...             []  ...   \n",
       "\n",
       "  Manufacturers                                          Retailers  \\\n",
       "0            []  [{'Name': 'Cracker Barrel Old Country Store na...   \n",
       "1            []  [{'Name': 'Macy's stores nationwide from Febru...   \n",
       "2            []  [{'Name': 'Children's boutiques including Read...   \n",
       "3            []  [{'Name': 'Big 5 Sporting Goods retail stores ...   \n",
       "4            []  [{'Name': 'Meijer Stores in Illinois, Indiana,...   \n",
       "\n",
       "                                           Importers Distributors SoldAtLabel  \\\n",
       "0  [{'Name': 'Classic Characters Inc., of Quebec,...           []        None   \n",
       "1  [{'Name': 'Trimfoot Co. LLC., of Farmington, M...           []        None   \n",
       "2  [{'Name': 'Livie and Luca, of Emeryville, Cali...           []        None   \n",
       "3  [{'Name': 'The Eastman Footwear Group Inc., of...           []        None   \n",
       "4  [{'Name': 'American Boy and Girl (ABG), of Eli...           []        None   \n",
       "\n",
       "     ManufacturerCountries ProductUPCs  \\\n",
       "0   [{'Country': 'China'}]          []   \n",
       "1   [{'Country': 'China'}]          []   \n",
       "2  [{'Country': 'Mexico'}]          []   \n",
       "3   [{'Country': 'China'}]          []   \n",
       "4   [{'Country': 'China'}]          []   \n",
       "\n",
       "                                             Hazards  \\\n",
       "0  [{'Name': 'The pompoms at the tip of the toe c...   \n",
       "1  [{'Name': 'A small metal eyelet can detach fro...   \n",
       "2  [{'Name': 'A metal thread inside the interior ...   \n",
       "3  [{'Name': 'The metal rivets surrounding the ho...   \n",
       "4  [{'Name': 'The top strap can be pulled loose f...   \n",
       "\n",
       "                                            Remedies  \\\n",
       "0  [{'Name': 'Consumers should immediately stop u...   \n",
       "1  [{'Name': 'Consumers should immediately take t...   \n",
       "2  [{'Name': 'Consumers should immediately take t...   \n",
       "3  [{'Name': 'Consumers should immediately stop u...   \n",
       "4  [{'Name': 'Consumers should immediately take t...   \n",
       "\n",
       "                                   RemedyOptions  \n",
       "0                         [{'Option': 'Refund'}]  \n",
       "1                         [{'Option': 'Refund'}]  \n",
       "2  [{'Option': 'Replace'}, {'Option': 'Refund'}]  \n",
       "3                                             []  \n",
       "4  [{'Option': 'Replace'}, {'Option': 'Refund'}]  \n",
       "\n",
       "[5 rows x 22 columns]"
      ]
     },
     "execution_count": 2,
     "metadata": {},
     "output_type": "execute_result"
    }
   ],
   "source": [
    "df = pd.DataFrame.from_dict(data)\n",
    "df.head()"
   ]
  },
  {
   "cell_type": "markdown",
   "id": "05bff870",
   "metadata": {},
   "source": [
    "**3. Convert this code chunk into a function you can reuse to flatten dictionaries, or explain clearly the problems you run into while attempting to do so. Make some tables or plots.**\n",
    "\n",
    "I reused the code to clean the remedy options, and then repeated the process for the manufacturing companies. "
   ]
  },
  {
   "cell_type": "code",
   "execution_count": 3,
   "id": "29059af5",
   "metadata": {},
   "outputs": [
    {
     "name": "stdout",
     "output_type": "stream",
     "text": [
      "                     47\n",
      "[Refund]              9\n",
      "[Replace, Refund]     2\n",
      "Name: remedy, dtype: int64\n"
     ]
    }
   ],
   "source": [
    "# Flatten the 'RemedyOptions' column\n",
    "temp = df['RemedyOptions']\n",
    "clean_values = []\n",
    "\n",
    "for i in range(len(temp)):\n",
    "    if len(temp[i]) > 0:\n",
    "        values = []\n",
    "        for j in range(len(temp[i])):\n",
    "            values.append(temp[i][j]['Option'])\n",
    "        clean_values.append(values)\n",
    "    else:\n",
    "        clean_values.append('')\n",
    "\n",
    "# Add the cleaned values as a new column\n",
    "df['remedy'] = clean_values\n",
    "\n",
    "# Display the new remedy counts\n",
    "print(df['remedy'].value_counts())\n"
   ]
  },
  {
   "cell_type": "code",
   "execution_count": 4,
   "id": "1658afe0",
   "metadata": {},
   "outputs": [
    {
     "data": {
      "image/png": "[encoded data removed]",
      "text/plain": [
       "<Figure size 640x480 with 1 Axes>"
      ]
     },
     "metadata": {},
     "output_type": "display_data"
    }
   ],
   "source": [
    "import matplotlib.pyplot as plt\n",
    "\n",
    "df['remedy'].value_counts().plot(kind='bar')\n",
    "plt.title('Remedy Options Bar Chart')\n",
    "plt.xlabel('Remedy Options')\n",
    "plt.ylabel('Count')\n",
    "plt.show()"
   ]
  },
  {
   "cell_type": "code",
   "execution_count": 5,
   "id": "9fc1ec55",
   "metadata": {},
   "outputs": [
    {
     "name": "stdout",
     "output_type": "stream",
     "text": [
      "[China]                  35\n",
      "                         11\n",
      "[United States]           2\n",
      "[Mexico]                  1\n",
      "[Spain]                   1\n",
      "[Thailand]                1\n",
      "[Vietnam]                 1\n",
      "[China, Spain, Italy]     1\n",
      "[Brazil]                  1\n",
      "[Dominican Republic]      1\n",
      "[Sweden]                  1\n",
      "[Indonesia]               1\n",
      "[Canada]                  1\n",
      "Name: manufacturer_countries, dtype: int64\n"
     ]
    }
   ],
   "source": [
    "temp = df['ManufacturerCountries']\n",
    "clean_countries = []\n",
    "\n",
    "for i in range(len(temp)):\n",
    "    if len(temp[i]) > 0: \n",
    "        countries = []\n",
    "        for j in range(len(temp[i])):\n",
    "            countries.append(temp[i][j]['Country']) \n",
    "        clean_countries.append(countries)  \n",
    "    else:\n",
    "        clean_countries.append('')  \n",
    "\n",
    "# Add the cleaned country data as a new column\n",
    "df['manufacturer_countries'] = clean_countries\n",
    "\n",
    "# Display the updated DataFrame\n",
    "print(df['manufacturer_countries'].value_counts())\n"
   ]
  },
  {
   "cell_type": "code",
   "execution_count": 6,
   "id": "60ecae56",
   "metadata": {},
   "outputs": [
    {
     "data": {
      "image/png": "[encoded data removed]",
      "text/plain": [
       "<Figure size 640x480 with 1 Axes>"
      ]
     },
     "metadata": {},
     "output_type": "display_data"
    }
   ],
   "source": [
    "import matplotlib.pyplot as plt\n",
    "\n",
    "df['manufacturer_countries'].value_counts().head().plot(kind='barh')\n",
    "plt.title('Top 5 Manufacturer Countries Bar Chart')\n",
    "plt.xlabel('Countries')\n",
    "plt.ylabel('Count')\n",
    "plt.show()"
   ]
  },
  {
   "cell_type": "markdown",
   "id": "0a124b9a",
   "metadata": {},
   "source": [
    "**4. Produce your own table or plot, and output it to streamlit.**\n",
    "\n",
    "I made a table for streamlit. The file can be found in the same lab folder as this notebook, and is called country.py\n"
   ]
  },
  {
   "cell_type": "markdown",
   "id": "668b2825",
   "metadata": {},
   "source": [
    "**5. Pick an API, download some data, wrangle them, and produce some EDA results, as we did in the previous steps with the saferproducts.gov API; or, if you can't get it to work, document why. If you have the time and it's low cost, push the results to a streamlit page. If you have had enough, I recommend https://www.eia.gov/opendata/browser/electricity, since there is a friendly query builder that you can use to learn.**\n",
    "\n",
    "I used an API that keeps track of data for the Formula 1 racing series."
   ]
  },
  {
   "cell_type": "code",
   "execution_count": 7,
   "id": "9bcb45e7",
   "metadata": {},
   "outputs": [
    {
     "data": {
      "text/html": [
       "<div>\n",
       "<style scoped>\n",
       "    .dataframe tbody tr th:only-of-type {\n",
       "        vertical-align: middle;\n",
       "    }\n",
       "\n",
       "    .dataframe tbody tr th {\n",
       "        vertical-align: top;\n",
       "    }\n",
       "\n",
       "    .dataframe thead th {\n",
       "        text-align: right;\n",
       "    }\n",
       "</style>\n",
       "<table border=\"1\" class=\"dataframe\">\n",
       "  <thead>\n",
       "    <tr style=\"text-align: right;\">\n",
       "      <th></th>\n",
       "      <th>season</th>\n",
       "      <th>round</th>\n",
       "      <th>ConstructorStandings</th>\n",
       "    </tr>\n",
       "  </thead>\n",
       "  <tbody>\n",
       "    <tr>\n",
       "      <th>0</th>\n",
       "      <td>1958</td>\n",
       "      <td>11</td>\n",
       "      <td>[{'position': '1', 'positionText': '1', 'point...</td>\n",
       "    </tr>\n",
       "    <tr>\n",
       "      <th>1</th>\n",
       "      <td>1959</td>\n",
       "      <td>9</td>\n",
       "      <td>[{'position': '1', 'positionText': '1', 'point...</td>\n",
       "    </tr>\n",
       "    <tr>\n",
       "      <th>2</th>\n",
       "      <td>1960</td>\n",
       "      <td>10</td>\n",
       "      <td>[{'position': '1', 'positionText': '1', 'point...</td>\n",
       "    </tr>\n",
       "    <tr>\n",
       "      <th>3</th>\n",
       "      <td>1961</td>\n",
       "      <td>8</td>\n",
       "      <td>[{'position': '1', 'positionText': '1', 'point...</td>\n",
       "    </tr>\n",
       "    <tr>\n",
       "      <th>4</th>\n",
       "      <td>1962</td>\n",
       "      <td>9</td>\n",
       "      <td>[{'position': '1', 'positionText': '1', 'point...</td>\n",
       "    </tr>\n",
       "  </tbody>\n",
       "</table>\n",
       "</div>"
      ],
      "text/plain": [
       "  season round                               ConstructorStandings\n",
       "0   1958    11  [{'position': '1', 'positionText': '1', 'point...\n",
       "1   1959     9  [{'position': '1', 'positionText': '1', 'point...\n",
       "2   1960    10  [{'position': '1', 'positionText': '1', 'point...\n",
       "3   1961     8  [{'position': '1', 'positionText': '1', 'point...\n",
       "4   1962     9  [{'position': '1', 'positionText': '1', 'point..."
      ]
     },
     "execution_count": 7,
     "metadata": {},
     "output_type": "execute_result"
    }
   ],
   "source": [
    "import pandas as pd\n",
    "import urllib.request\n",
    "import json\n",
    "import requests\n",
    "url = 'https://ergast.com/api/f1/' # Location of the API\n",
    "query = 'constructorStandings/1.json?limit=100' # The query\n",
    "response = urllib.request.urlopen(url+query)\n",
    "response_bytes = response.read()\n",
    "data = json.loads(response_bytes) # Convert response to json\n",
    "data = data['MRData'][\"StandingsTable\"][\"StandingsLists\"]\n",
    "\n",
    "response.close()\n",
    "df = pd.DataFrame.from_dict(data)\n",
    "df.head()"
   ]
  },
  {
   "cell_type": "code",
   "execution_count": 8,
   "id": "ed628c61",
   "metadata": {},
   "outputs": [
    {
     "name": "stdout",
     "output_type": "stream",
     "text": [
      "   season  round  position  points  wins    constr_name constr_nationality\n",
      "0    1958     11         1    48.0     6        Vanwall            British\n",
      "1    1959      9         1    40.0     5  Cooper-Climax            British\n",
      "2    1960     10         1    48.0     6  Cooper-Climax            British\n",
      "3    1961      8         1    45.0     5        Ferrari            Italian\n",
      "4    1962      9         1    42.0     4            BRM            British\n"
     ]
    }
   ],
   "source": [
    "# flattening the data\n",
    "flattened_data = []\n",
    "for item in data:\n",
    "    season = int(item['season'])\n",
    "    round_number = int(item['round'])\n",
    "    for constructor in item['ConstructorStandings']:\n",
    "        flattened_data.append({\n",
    "            'season': season,\n",
    "            'round': round_number,\n",
    "            'position': int(constructor['position']),\n",
    "            'points': float(constructor['points']) ,\n",
    "            'wins': int(constructor['wins']) ,\n",
    "            'constr_name': constructor['Constructor']['name'],\n",
    "            'constr_nationality': constructor['Constructor']['nationality'],\n",
    "        })\n",
    "\n",
    "df = pd.DataFrame(flattened_data)\n",
    "print(df.head())"
   ]
  },
  {
   "cell_type": "code",
   "execution_count": 9,
   "id": "9186cb07",
   "metadata": {},
   "outputs": [
    {
     "data": {
      "text/html": [
       "<div>\n",
       "<style scoped>\n",
       "    .dataframe tbody tr th:only-of-type {\n",
       "        vertical-align: middle;\n",
       "    }\n",
       "\n",
       "    .dataframe tbody tr th {\n",
       "        vertical-align: top;\n",
       "    }\n",
       "\n",
       "    .dataframe thead th {\n",
       "        text-align: right;\n",
       "    }\n",
       "</style>\n",
       "<table border=\"1\" class=\"dataframe\">\n",
       "  <thead>\n",
       "    <tr style=\"text-align: right;\">\n",
       "      <th></th>\n",
       "      <th>season</th>\n",
       "      <th>round</th>\n",
       "      <th>position</th>\n",
       "      <th>points</th>\n",
       "      <th>wins</th>\n",
       "    </tr>\n",
       "  </thead>\n",
       "  <tbody>\n",
       "    <tr>\n",
       "      <th>count</th>\n",
       "      <td>66.000000</td>\n",
       "      <td>66.000000</td>\n",
       "      <td>66.0</td>\n",
       "      <td>66.000000</td>\n",
       "      <td>66.000000</td>\n",
       "    </tr>\n",
       "    <tr>\n",
       "      <th>mean</th>\n",
       "      <td>1990.500000</td>\n",
       "      <td>15.712121</td>\n",
       "      <td>1.0</td>\n",
       "      <td>231.219697</td>\n",
       "      <td>8.681818</td>\n",
       "    </tr>\n",
       "    <tr>\n",
       "      <th>std</th>\n",
       "      <td>19.196354</td>\n",
       "      <td>3.494018</td>\n",
       "      <td>0.0</td>\n",
       "      <td>234.640857</td>\n",
       "      <td>4.057885</td>\n",
       "    </tr>\n",
       "    <tr>\n",
       "      <th>min</th>\n",
       "      <td>1958.000000</td>\n",
       "      <td>8.000000</td>\n",
       "      <td>1.0</td>\n",
       "      <td>40.000000</td>\n",
       "      <td>3.000000</td>\n",
       "    </tr>\n",
       "    <tr>\n",
       "      <th>25%</th>\n",
       "      <td>1974.250000</td>\n",
       "      <td>14.250000</td>\n",
       "      <td>1.0</td>\n",
       "      <td>73.250000</td>\n",
       "      <td>6.000000</td>\n",
       "    </tr>\n",
       "    <tr>\n",
       "      <th>50%</th>\n",
       "      <td>1990.500000</td>\n",
       "      <td>16.000000</td>\n",
       "      <td>1.0</td>\n",
       "      <td>140.000000</td>\n",
       "      <td>8.000000</td>\n",
       "    </tr>\n",
       "    <tr>\n",
       "      <th>75%</th>\n",
       "      <td>2006.750000</td>\n",
       "      <td>17.750000</td>\n",
       "      <td>1.0</td>\n",
       "      <td>205.500000</td>\n",
       "      <td>10.750000</td>\n",
       "    </tr>\n",
       "    <tr>\n",
       "      <th>max</th>\n",
       "      <td>2023.000000</td>\n",
       "      <td>22.000000</td>\n",
       "      <td>1.0</td>\n",
       "      <td>860.000000</td>\n",
       "      <td>21.000000</td>\n",
       "    </tr>\n",
       "  </tbody>\n",
       "</table>\n",
       "</div>"
      ],
      "text/plain": [
       "            season      round  position      points       wins\n",
       "count    66.000000  66.000000      66.0   66.000000  66.000000\n",
       "mean   1990.500000  15.712121       1.0  231.219697   8.681818\n",
       "std      19.196354   3.494018       0.0  234.640857   4.057885\n",
       "min    1958.000000   8.000000       1.0   40.000000   3.000000\n",
       "25%    1974.250000  14.250000       1.0   73.250000   6.000000\n",
       "50%    1990.500000  16.000000       1.0  140.000000   8.000000\n",
       "75%    2006.750000  17.750000       1.0  205.500000  10.750000\n",
       "max    2023.000000  22.000000       1.0  860.000000  21.000000"
      ]
     },
     "execution_count": 9,
     "metadata": {},
     "output_type": "execute_result"
    }
   ],
   "source": [
    "df.describe()"
   ]
  },
  {
   "cell_type": "code",
   "execution_count": 10,
   "id": "3a9e3ff7",
   "metadata": {},
   "outputs": [
    {
     "name": "stdout",
     "output_type": "stream",
     "text": [
      "    season  round  position  points  wins constr_name constr_nationality\n",
      "65    2023     22         1   860.0    21    Red Bull           Austrian\n",
      "64    2022     22         1   759.0    17    Red Bull           Austrian\n",
      "63    2021     22         1   613.5     9    Mercedes             German\n",
      "62    2020     17         1   573.0    13    Mercedes             German\n",
      "61    2019     21         1   739.0    15    Mercedes             German\n",
      "60    2018     21         1   655.0    11    Mercedes             German\n",
      "59    2017     20         1   668.0    12    Mercedes             German\n",
      "58    2016     21         1   765.0    19    Mercedes             German\n",
      "57    2015     19         1   703.0    16    Mercedes             German\n",
      "56    2014     19         1   701.0    16    Mercedes             German\n"
     ]
    }
   ],
   "source": [
    "# Table of the 10 most recent constructors champions\n",
    "winners = df.sort_values(by='season', ascending=False).head(10)\n",
    "print(winners)"
   ]
  },
  {
   "cell_type": "code",
   "execution_count": 11,
   "id": "f470a992",
   "metadata": {},
   "outputs": [
    {
     "data": {
      "text/plain": [
       "[Text(0.5, 1.0, 'Wins by Winning Constructor over Time'),\n",
       " Text(0.5, 0, 'Season'),\n",
       " Text(0, 0.5, 'Wins In the Season')]"
      ]
     },
     "execution_count": 11,
     "metadata": {},
     "output_type": "execute_result"
    },
    {
     "data": {
      "image/png": "[encoded data removed]",
      "text/plain": [
       "<Figure size 640x480 with 1 Axes>"
      ]
     },
     "metadata": {},
     "output_type": "display_data"
    }
   ],
   "source": [
    "import numpy as np  # Import NumPy\n",
    "import pandas as pd  # Import Pandas\n",
    "import seaborn as sns # Import Seaborn\n",
    "\n",
    "var1 = 'season'\n",
    "var2 = 'wins'\n",
    "cat1 = 'points'\n",
    "\n",
    "sns.scatterplot(data=df, x=var1, y=var2,hue=cat1).set(title='Wins by Winning Constructor over Time',xlabel='Season',ylabel='Wins In the Season') "
   ]
  },
  {
   "cell_type": "markdown",
   "id": "53d30aa2",
   "metadata": {},
   "source": [
    "The chart above shows how many wins the winning team had for each season (each season takes place over the course of 1 year). The winning team is the team who finished the season with the most points, so the color of the points reflect how many points were earned. For context, the number of races held per year has increased over time, which contributes to the upward slope of the points on this graph. As a side not, the scoring systems have also changed over time. "
   ]
  },
  {
   "cell_type": "code",
   "execution_count": 12,
   "id": "6a1f2b44",
   "metadata": {},
   "outputs": [
    {
     "data": {
      "text/plain": [
       "[Text(0.5, 1.0, 'Win Ratio of Winning Constructor over Time'),\n",
       " Text(0.5, 0, 'Season'),\n",
       " Text(0, 0.5, 'Wins Ratio')]"
      ]
     },
     "execution_count": 12,
     "metadata": {},
     "output_type": "execute_result"
    },
    {
     "data": {
      "image/png": "[encoded data removed]",
      "text/plain": [
       "<Figure size 640x480 with 1 Axes>"
      ]
     },
     "metadata": {},
     "output_type": "display_data"
    }
   ],
   "source": [
    "df['win_ratio'] = df['wins'].astype(float) / df['round'].astype(float)\n",
    "\n",
    "var1 = 'season'\n",
    "var2 = 'win_ratio'\n",
    "cat1 = 'constr_nationality'\n",
    "\n",
    "sns.scatterplot(data=df, x=var1, y=var2,hue=cat1).set(title='Win Ratio of Winning Constructor over Time',xlabel='Season',ylabel='Wins Ratio') "
   ]
  },
  {
   "cell_type": "markdown",
   "id": "85a1fad4",
   "metadata": {},
   "source": [
    "The graph above instead plots the ratio of wins to the total number of races held, to account for the fact that the number of races has increased over time. We can see a slight positive relationship, demonstrating that champion teams win a larger proportion of races in more recent times. This could be partially due to the increased performance and reliability of race cars today. The champions are also colored by the teams' nationality, and we see a majority of championships have been won by British teams. "
   ]
  },
  {
   "cell_type": "code",
   "execution_count": 14,
   "id": "f4a92703",
   "metadata": {},
   "outputs": [
    {
     "name": "stdout",
     "output_type": "stream",
     "text": [
      "  Constructor Country  Total Championships\n",
      "0             British                   32\n",
      "1             Italian                   17\n",
      "2              German                    8\n",
      "3            Austrian                    6\n",
      "4              French                    3\n"
     ]
    }
   ],
   "source": [
    "wins_by_country = df['constr_nationality'].value_counts().reset_index()\n",
    "wins_by_country.columns = ['Constructor Country', 'Total Championships']\n",
    "wins_by_country = wins_by_country.sort_values(by='Total Championships', ascending=False)\n",
    "\n",
    "print(wins_by_country)"
   ]
  },
  {
   "cell_type": "code",
   "execution_count": 15,
   "id": "5485f730",
   "metadata": {},
   "outputs": [
    {
     "name": "stdout",
     "output_type": "stream",
     "text": [
      "      Constructor  Total Championships\n",
      "0         Ferrari                   16\n",
      "1        Williams                    9\n",
      "2        Mercedes                    8\n",
      "3         McLaren                    8\n",
      "4        Red Bull                    6\n",
      "5      Team Lotus                    4\n",
      "9         Renault                    2\n",
      "8    Lotus-Climax                    2\n",
      "7   Brabham-Repco                    2\n",
      "6   Cooper-Climax                    2\n",
      "10     Lotus-Ford                    1\n",
      "11     Matra-Ford                    1\n",
      "12        Tyrrell                    1\n",
      "13       Benetton                    1\n",
      "14          Brawn                    1\n",
      "15            BRM                    1\n",
      "16        Vanwall                    1\n"
     ]
    }
   ],
   "source": [
    "championships_by_team = df['constr_name'].value_counts().reset_index()\n",
    "championships_by_team.columns = ['Constructor', 'Total Championships']\n",
    "championships_by_team = championships_by_team.sort_values(by='Total Championships', ascending=False)\n",
    "\n",
    "print(championships_by_team)"
   ]
  },
  {
   "cell_type": "markdown",
   "id": "5f3ffb06",
   "metadata": {},
   "source": [
    "The two tables above show championships won by country, and then by team. Interestingly, Ferrari (an Italian team) has the most championship wins, even though the UK has the most overall. "
   ]
  }
 ],
 "metadata": {
  "kernelspec": {
   "display_name": "Python 3 (ipykernel)",
   "language": "python",
   "name": "python3"
  },
  "language_info": {
   "codemirror_mode": {
    "name": "ipython",
    "version": 3
   },
   "file_extension": ".py",
   "mimetype": "text/x-python",
   "name": "python",
   "nbconvert_exporter": "python",
   "pygments_lexer": "ipython3",
   "version": "3.11.4"
  }
 },
 "nbformat": 4,
 "nbformat_minor": 5
}
