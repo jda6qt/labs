{
 "cells": [
  {
   "cell_type": "markdown",
   "metadata": {},
   "source": [
    "## Lab 2: Web Scraping\n",
    "\n",
    "Hanna Svenson"
   ]
  },
  {
   "cell_type": "code",
   "execution_count": 1,
   "metadata": {},
   "outputs": [],
   "source": [
    "import numpy as np\n",
    "import matplotlib.pyplot as plt\n",
    "import pandas as pd\n",
    "import seaborn as sns\n",
    "\n",
    "import requests # Page requests\n",
    "\n",
    "header = {'User-Agent': 'Mozilla/5.0 (Windows NT 10.0; Win64; x64; rv:124.0) Gecko/20100101 Firefox/124.0'} \n",
    "url = 'https://washingtondc.craigslist.org/search/jwa?purveyor=owner#search=1~gallery~0~0' \n",
    "raw = requests.get(url,headers=header) # Get page"
   ]
  },
  {
   "cell_type": "markdown",
   "metadata": {},
   "source": [
    "### 1. Pick something else on Craigslist: Musical instruments, roommates, antiques, etc. Look at the search page and its source code. Record which fields/data you would like to gather, and what kinds of EDA you'd do with it."
   ]
  },
  {
   "cell_type": "markdown",
   "metadata": {},
   "source": [
    "We are looking at jewelry sold in DC (there were more listings there than Charlottesville). "
   ]
  },
  {
   "cell_type": "code",
   "execution_count": 2,
   "metadata": {},
   "outputs": [],
   "source": [
    "from bs4 import BeautifulSoup as soup # HTML parser\n",
    "bsObj = soup(raw.content,'html.parser') # Parse the html\n",
    "listings = bsObj.find_all(class_=\"cl-static-search-result\") # Find all listings"
   ]
  },
  {
   "cell_type": "markdown",
   "metadata": {},
   "source": [
    "### 2. Get your search results of interest and extract data from them"
   ]
  },
  {
   "cell_type": "code",
   "execution_count": 3,
   "metadata": {},
   "outputs": [],
   "source": [
    "import re # Regular expressions\n",
    "\n",
    "jewelry_types = ['watch', 'earrings', 'necklace', 'bracelet', 'ring', 'pin', 'pendant', 'chain']\n",
    "\n",
    "data = [] # We'll save our listings in this object\n",
    "for k in range( len(listings) ):\n",
    "    title = listings[k].find('div',class_='title').get_text().lower()\n",
    "    price = listings[k].find('div',class_='price').get_text()\n",
    "    link = listings[k].find(href=True)['href']\n",
    "    # Get brand from the title string:\n",
    "    words = title.split()\n",
    "    hits = [word for word in words if word in jewelry_types] # Find brands in the title\n",
    "    if len(hits) == 0:\n",
    "        jwltype = 'other'\n",
    "    else:\n",
    "        jwltype = hits[0]\n",
    "    # Get years from title string:\n",
    "    regex_search = re.search('men', title ) # if \"men\" is found in title, classify it as a men's item\n",
    "    if regex_search is None: # If no hits, not a mens item\n",
    "        men = False \n",
    "    else: \n",
    "        men = True\n",
    "    #\n",
    "    data.append({'title':title,'price':price,'type':jwltype,'men\\'s item':men,'link':link})"
   ]
  },
  {
   "cell_type": "markdown",
   "metadata": {},
   "source": [
    "\n",
    "With the data scraped from Craigslist, we can put it in a dataframe and wrangle it. Of course, price and year come in as text, not numbers, and need to be typecast/coerced:"
   ]
  },
  {
   "cell_type": "code",
   "execution_count": 4,
   "metadata": {},
   "outputs": [
    {
     "name": "stdout",
     "output_type": "stream",
     "text": [
      "(353, 5)\n"
     ]
    },
    {
     "name": "stderr",
     "output_type": "stream",
     "text": [
      "C:\\Users\\jda6qt\\AppData\\Local\\Temp\\ipykernel_27472\\2536136190.py:3: FutureWarning: The default value of regex will change from True to False in a future version. In addition, single character regular expressions will *not* be treated as literal strings when regex=True.\n",
      "  df['price'] = df['price'].str.replace('$','')\n"
     ]
    },
    {
     "data": {
      "text/html": [
       "<div>\n",
       "<style scoped>\n",
       "    .dataframe tbody tr th:only-of-type {\n",
       "        vertical-align: middle;\n",
       "    }\n",
       "\n",
       "    .dataframe tbody tr th {\n",
       "        vertical-align: top;\n",
       "    }\n",
       "\n",
       "    .dataframe thead th {\n",
       "        text-align: right;\n",
       "    }\n",
       "</style>\n",
       "<table border=\"1\" class=\"dataframe\">\n",
       "  <thead>\n",
       "    <tr style=\"text-align: right;\">\n",
       "      <th></th>\n",
       "      <th>title</th>\n",
       "      <th>price</th>\n",
       "      <th>type</th>\n",
       "      <th>men's item</th>\n",
       "      <th>link</th>\n",
       "    </tr>\n",
       "  </thead>\n",
       "  <tbody>\n",
       "    <tr>\n",
       "      <th>0</th>\n",
       "      <td>huge blue lapis lazuli and turquoise statement...</td>\n",
       "      <td>150</td>\n",
       "      <td>ring</td>\n",
       "      <td>True</td>\n",
       "      <td>https://washingtondc.craigslist.org/doc/jwl/d/...</td>\n",
       "    </tr>\n",
       "    <tr>\n",
       "      <th>1</th>\n",
       "      <td>diamond tiara</td>\n",
       "      <td>15</td>\n",
       "      <td>other</td>\n",
       "      <td>False</td>\n",
       "      <td>https://washingtondc.craigslist.org/doc/jwl/d/...</td>\n",
       "    </tr>\n",
       "    <tr>\n",
       "      <th>2</th>\n",
       "      <td>men’s swiss watch</td>\n",
       "      <td>460</td>\n",
       "      <td>watch</td>\n",
       "      <td>True</td>\n",
       "      <td>https://washingtondc.craigslist.org/mld/jwl/d/...</td>\n",
       "    </tr>\n",
       "    <tr>\n",
       "      <th>3</th>\n",
       "      <td>new men's watch</td>\n",
       "      <td>450</td>\n",
       "      <td>watch</td>\n",
       "      <td>True</td>\n",
       "      <td>https://washingtondc.craigslist.org/mld/jwl/d/...</td>\n",
       "    </tr>\n",
       "    <tr>\n",
       "      <th>4</th>\n",
       "      <td>cubic zirconia wedding ring set, size 10</td>\n",
       "      <td>10</td>\n",
       "      <td>ring</td>\n",
       "      <td>False</td>\n",
       "      <td>https://washingtondc.craigslist.org/doc/jwl/d/...</td>\n",
       "    </tr>\n",
       "  </tbody>\n",
       "</table>\n",
       "</div>"
      ],
      "text/plain": [
       "                                               title  price   type  \\\n",
       "0  huge blue lapis lazuli and turquoise statement...    150   ring   \n",
       "1                                      diamond tiara     15  other   \n",
       "2                                  men’s swiss watch    460  watch   \n",
       "3                                    new men's watch    450  watch   \n",
       "4           cubic zirconia wedding ring set, size 10     10   ring   \n",
       "\n",
       "   men's item                                               link  \n",
       "0        True  https://washingtondc.craigslist.org/doc/jwl/d/...  \n",
       "1       False  https://washingtondc.craigslist.org/doc/jwl/d/...  \n",
       "2        True  https://washingtondc.craigslist.org/mld/jwl/d/...  \n",
       "3        True  https://washingtondc.craigslist.org/mld/jwl/d/...  \n",
       "4       False  https://washingtondc.craigslist.org/doc/jwl/d/...  "
      ]
     },
     "execution_count": 4,
     "metadata": {},
     "output_type": "execute_result"
    }
   ],
   "source": [
    "## Wrangle the data\n",
    "df = pd.DataFrame.from_dict(data)\n",
    "df['price'] = df['price'].str.replace('$','')\n",
    "df['price'] = df['price'].str.replace(',','')\n",
    "df['price'] = pd.to_numeric(df['price'],errors='coerce')\n",
    "print(df.shape)\n",
    "df.to_csv('craigslist_dc_jewelry.csv') # Save data in case of a disaster\n",
    "df.head()"
   ]
  },
  {
   "cell_type": "markdown",
   "metadata": {},
   "source": [
    "### 3. Wrangle your data, do some EDA, and make some plots. Try to find some interesting relationships or stories to tell about your data."
   ]
  },
  {
   "cell_type": "code",
   "execution_count": 5,
   "metadata": {
    "scrolled": true
   },
   "outputs": [
    {
     "name": "stdout",
     "output_type": "stream",
     "text": [
      "count    3.530000e+02\n",
      "mean     4.104748e+03\n",
      "std      6.576569e+04\n",
      "min      0.000000e+00\n",
      "25%      1.200000e+01\n",
      "50%      5.000000e+01\n",
      "75%      3.600000e+02\n",
      "max      1.234567e+06\n",
      "Name: price, dtype: float64\n"
     ]
    },
    {
     "data": {
      "image/png": "[encoded data removed]",
      "text/plain": [
       "<Figure size 640x480 with 1 Axes>"
      ]
     },
     "metadata": {},
     "output_type": "display_data"
    },
    {
     "name": "stdout",
     "output_type": "stream",
     "text": [
      "count       353\n",
      "unique        9\n",
      "top       other\n",
      "freq        114\n",
      "Name: type, dtype: object\n"
     ]
    },
    {
     "data": {
      "image/png": "[encoded data removed]",
      "text/plain": [
       "<Figure size 640x480 with 1 Axes>"
      ]
     },
     "metadata": {},
     "output_type": "display_data"
    }
   ],
   "source": [
    "# EDA for price and type:\n",
    "print(df['price'].describe())\n",
    "df['price'].hist(grid=False)\n",
    "plt.show()\n",
    "print(df['type'].describe())\n",
    "df['type'].value_counts().plot(kind='bar', xlabel='Type', ylabel='Count')\n",
    "plt.show()"
   ]
  },
  {
   "cell_type": "code",
   "execution_count": 6,
   "metadata": {},
   "outputs": [
    {
     "name": "stdout",
     "output_type": "stream",
     "text": [
      "count     350.000000\n",
      "mean      364.028571\n",
      "std      1045.146284\n",
      "min         0.000000\n",
      "25%        12.000000\n",
      "50%        50.000000\n",
      "75%       360.000000\n",
      "max      9500.000000\n",
      "Name: price, dtype: float64\n"
     ]
    },
    {
     "data": {
      "image/png": "[encoded data removed]",
      "text/plain": [
       "<Figure size 640x480 with 1 Axes>"
      ]
     },
     "metadata": {},
     "output_type": "display_data"
    }
   ],
   "source": [
    "#I only wan't to look at items less than $10,000\n",
    "df = df[df['price'] <= 10000]\n",
    "\n",
    "print(df['price'].describe())\n",
    "df['price'].hist(grid=False)\n",
    "plt.show()"
   ]
  },
  {
   "cell_type": "code",
   "execution_count": 7,
   "metadata": {},
   "outputs": [
    {
     "data": {
      "text/html": [
       "<div>\n",
       "<style scoped>\n",
       "    .dataframe tbody tr th:only-of-type {\n",
       "        vertical-align: middle;\n",
       "    }\n",
       "\n",
       "    .dataframe tbody tr th {\n",
       "        vertical-align: top;\n",
       "    }\n",
       "\n",
       "    .dataframe thead tr th {\n",
       "        text-align: left;\n",
       "    }\n",
       "\n",
       "    .dataframe thead tr:last-of-type th {\n",
       "        text-align: right;\n",
       "    }\n",
       "</style>\n",
       "<table border=\"1\" class=\"dataframe\">\n",
       "  <thead>\n",
       "    <tr>\n",
       "      <th></th>\n",
       "      <th colspan=\"8\" halign=\"left\">price</th>\n",
       "    </tr>\n",
       "    <tr>\n",
       "      <th></th>\n",
       "      <th>count</th>\n",
       "      <th>mean</th>\n",
       "      <th>std</th>\n",
       "      <th>min</th>\n",
       "      <th>25%</th>\n",
       "      <th>50%</th>\n",
       "      <th>75%</th>\n",
       "      <th>max</th>\n",
       "    </tr>\n",
       "    <tr>\n",
       "      <th>type</th>\n",
       "      <th></th>\n",
       "      <th></th>\n",
       "      <th></th>\n",
       "      <th></th>\n",
       "      <th></th>\n",
       "      <th></th>\n",
       "      <th></th>\n",
       "      <th></th>\n",
       "    </tr>\n",
       "  </thead>\n",
       "  <tbody>\n",
       "    <tr>\n",
       "      <th>bracelet</th>\n",
       "      <td>14.0</td>\n",
       "      <td>133.785714</td>\n",
       "      <td>210.425276</td>\n",
       "      <td>6.0</td>\n",
       "      <td>25.00</td>\n",
       "      <td>45.0</td>\n",
       "      <td>148.75</td>\n",
       "      <td>800.0</td>\n",
       "    </tr>\n",
       "    <tr>\n",
       "      <th>chain</th>\n",
       "      <td>7.0</td>\n",
       "      <td>34.285714</td>\n",
       "      <td>48.941170</td>\n",
       "      <td>10.0</td>\n",
       "      <td>10.00</td>\n",
       "      <td>10.0</td>\n",
       "      <td>30.00</td>\n",
       "      <td>140.0</td>\n",
       "    </tr>\n",
       "    <tr>\n",
       "      <th>earrings</th>\n",
       "      <td>26.0</td>\n",
       "      <td>163.730769</td>\n",
       "      <td>591.981389</td>\n",
       "      <td>0.0</td>\n",
       "      <td>9.25</td>\n",
       "      <td>15.0</td>\n",
       "      <td>21.50</td>\n",
       "      <td>3000.0</td>\n",
       "    </tr>\n",
       "    <tr>\n",
       "      <th>necklace</th>\n",
       "      <td>47.0</td>\n",
       "      <td>176.234043</td>\n",
       "      <td>606.621478</td>\n",
       "      <td>0.0</td>\n",
       "      <td>10.00</td>\n",
       "      <td>15.0</td>\n",
       "      <td>57.50</td>\n",
       "      <td>3000.0</td>\n",
       "    </tr>\n",
       "    <tr>\n",
       "      <th>other</th>\n",
       "      <td>112.0</td>\n",
       "      <td>529.169643</td>\n",
       "      <td>1600.130135</td>\n",
       "      <td>0.0</td>\n",
       "      <td>10.00</td>\n",
       "      <td>20.0</td>\n",
       "      <td>155.00</td>\n",
       "      <td>9500.0</td>\n",
       "    </tr>\n",
       "    <tr>\n",
       "      <th>pendant</th>\n",
       "      <td>15.0</td>\n",
       "      <td>31.266667</td>\n",
       "      <td>48.702400</td>\n",
       "      <td>10.0</td>\n",
       "      <td>10.00</td>\n",
       "      <td>10.0</td>\n",
       "      <td>29.50</td>\n",
       "      <td>200.0</td>\n",
       "    </tr>\n",
       "    <tr>\n",
       "      <th>pin</th>\n",
       "      <td>5.0</td>\n",
       "      <td>25.400000</td>\n",
       "      <td>16.742162</td>\n",
       "      <td>1.0</td>\n",
       "      <td>20.00</td>\n",
       "      <td>25.0</td>\n",
       "      <td>36.00</td>\n",
       "      <td>45.0</td>\n",
       "    </tr>\n",
       "    <tr>\n",
       "      <th>ring</th>\n",
       "      <td>23.0</td>\n",
       "      <td>744.000000</td>\n",
       "      <td>1195.201809</td>\n",
       "      <td>8.0</td>\n",
       "      <td>100.00</td>\n",
       "      <td>300.0</td>\n",
       "      <td>750.00</td>\n",
       "      <td>5000.0</td>\n",
       "    </tr>\n",
       "    <tr>\n",
       "      <th>watch</th>\n",
       "      <td>101.0</td>\n",
       "      <td>354.277228</td>\n",
       "      <td>514.336565</td>\n",
       "      <td>10.0</td>\n",
       "      <td>75.00</td>\n",
       "      <td>360.0</td>\n",
       "      <td>360.00</td>\n",
       "      <td>4000.0</td>\n",
       "    </tr>\n",
       "  </tbody>\n",
       "</table>\n",
       "</div>"
      ],
      "text/plain": [
       "          price                                                              \n",
       "          count        mean          std   min     25%    50%     75%     max\n",
       "type                                                                         \n",
       "bracelet   14.0  133.785714   210.425276   6.0   25.00   45.0  148.75   800.0\n",
       "chain       7.0   34.285714    48.941170  10.0   10.00   10.0   30.00   140.0\n",
       "earrings   26.0  163.730769   591.981389   0.0    9.25   15.0   21.50  3000.0\n",
       "necklace   47.0  176.234043   606.621478   0.0   10.00   15.0   57.50  3000.0\n",
       "other     112.0  529.169643  1600.130135   0.0   10.00   20.0  155.00  9500.0\n",
       "pendant    15.0   31.266667    48.702400  10.0   10.00   10.0   29.50   200.0\n",
       "pin         5.0   25.400000    16.742162   1.0   20.00   25.0   36.00    45.0\n",
       "ring       23.0  744.000000  1195.201809   8.0  100.00  300.0  750.00  5000.0\n",
       "watch     101.0  354.277228   514.336565  10.0   75.00  360.0  360.00  4000.0"
      ]
     },
     "execution_count": 7,
     "metadata": {},
     "output_type": "execute_result"
    }
   ],
   "source": [
    "# Price by type:\n",
    "df.loc[:,['price','type']].groupby('type').describe()"
   ]
  },
  {
   "cell_type": "code",
   "execution_count": 8,
   "metadata": {},
   "outputs": [
    {
     "data": {
      "image/png": "[encoded data removed]",
      "text/plain": [
       "<Figure size 640x480 with 1 Axes>"
      ]
     },
     "metadata": {},
     "output_type": "display_data"
    }
   ],
   "source": [
    "ax = sns.scatterplot(data=df, x='type', y='price',hue='men\\'s item')\n",
    "sns.move_legend(ax, \"upper left\", bbox_to_anchor=(1, 1))"
   ]
  }
 ],
 "metadata": {
  "kernelspec": {
   "display_name": "Python 3 (ipykernel)",
   "language": "python",
   "name": "python3"
  },
  "language_info": {
   "codemirror_mode": {
    "name": "ipython",
    "version": 3
   },
   "file_extension": ".py",
   "mimetype": "text/x-python",
   "name": "python",
   "nbconvert_exporter": "python",
   "pygments_lexer": "ipython3",
   "version": "3.11.4"
  }
 },
 "nbformat": 4,
 "nbformat_minor": 2
}
